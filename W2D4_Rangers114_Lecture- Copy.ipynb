{
 "cells": [
  {
   "cell_type": "markdown",
   "metadata": {},
   "source": [
    "# User-Defined Functions & Scoping"
   ]
  },
  {
   "cell_type": "markdown",
   "metadata": {},
   "source": [
    "## Tasks Today:\n",
    "\n",
    "\n",
    "1) Functions <br>\n",
    " &nbsp;&nbsp;&nbsp;&nbsp; a) User-Defined vs. Built-In Functions <br>\n",
    " &nbsp;&nbsp;&nbsp;&nbsp; b) Accepting Parameters <br>\n",
    " &nbsp;&nbsp;&nbsp;&nbsp; c) Default Parameters <br>\n",
    " &nbsp;&nbsp;&nbsp;&nbsp; d) Making an Argument Optional <br>\n",
    " &nbsp;&nbsp;&nbsp;&nbsp; e) Keyword Arguments <br>\n",
    " &nbsp;&nbsp;&nbsp;&nbsp; f) Returning Values <br>\n",
    " &nbsp;&nbsp;&nbsp;&nbsp; g) *args <br>\n",
    " &nbsp;&nbsp;&nbsp;&nbsp; h) Docstring <br>\n",
    " &nbsp;&nbsp;&nbsp;&nbsp; i) Using a User Function in a Loop <br>\n",
    "2) Scope\n",
    "3) Creating more User-Defined functions "
   ]
  },
  {
   "cell_type": "markdown",
   "metadata": {},
   "source": [
    "\n",
    "## Functions"
   ]
  },
  {
   "cell_type": "markdown",
   "metadata": {},
   "source": [
    "##### User-Defined vs. Built-In Functions"
   ]
  },
  {
   "cell_type": "code",
   "execution_count": 1,
   "metadata": {},
   "outputs": [
    {
     "name": "stdout",
     "output_type": "stream",
     "text": [
      "Hello\n"
     ]
    }
   ],
   "source": [
    "#  built in function\n",
    "# print(\"Hello\")\n",
    "\n",
    "#  user def funtion is all up to us!\n",
    "def say_hello():\n",
    "    return \"Hello\"\n",
    "\n",
    "#  all of our functions should be returning something.\n",
    "#  when calling a function you will always need to put paranthisyes at the end"
   ]
  },
  {
   "cell_type": "markdown",
   "metadata": {},
   "source": [
    "##### Accepting Parameters"
   ]
  },
  {
   "cell_type": "code",
   "execution_count": 4,
   "metadata": {
    "scrolled": true
   },
   "outputs": [
    {
     "name": "stdout",
     "output_type": "stream",
     "text": [
      "The weather is kinda gross\n"
     ]
    },
    {
     "ename": "NameError",
     "evalue": "name 'run' is not defined",
     "output_type": "error",
     "traceback": [
      "\u001b[0;31m---------------------------------------------------------------------------\u001b[0m",
      "\u001b[0;31mNameError\u001b[0m                                 Traceback (most recent call last)",
      "Cell \u001b[0;32mIn[4], line 14\u001b[0m\n\u001b[1;32m     11\u001b[0m \u001b[38;5;28;01mdef\u001b[39;00m \u001b[38;5;21mmake_sentance\u001b[39m(verb, noun, adjective):\n\u001b[1;32m     12\u001b[0m     \u001b[38;5;28;01mreturn\u001b[39;00m \u001b[38;5;124mf\u001b[39m\u001b[38;5;124m\"\u001b[39m\u001b[38;5;124mThe \u001b[39m\u001b[38;5;132;01m{\u001b[39;00mnoun\u001b[38;5;132;01m}\u001b[39;00m\u001b[38;5;124m is very \u001b[39m\u001b[38;5;132;01m{\u001b[39;00madjective\u001b[38;5;132;01m}\u001b[39;00m\u001b[38;5;124m and \u001b[39m\u001b[38;5;132;01m{\u001b[39;00mverb\u001b[38;5;132;01m}\u001b[39;00m\u001b[38;5;124m\"\u001b[39m\n\u001b[0;32m---> 14\u001b[0m \u001b[38;5;28mprint\u001b[39m(make_sentance(\u001b[43mrun\u001b[49m, house, funny))\n",
      "\u001b[0;31mNameError\u001b[0m: name 'run' is not defined"
     ]
    }
   ],
   "source": [
    "# elements passed into a function\n",
    "# variables to hold the place of items our function will act upon\n",
    "#  order matters\n",
    "#  a parameter can be of any object type (data type)\n",
    "\n",
    "def print_something(something):\n",
    "    return something\n",
    "print(print_something(\"The weather is kinda gross\"))\n",
    "\n",
    "\n",
    "def make_sentance(verb, noun, adjective):\n",
    "    return f\"The {noun} is very {adjective} and {verb}\"\n",
    "\n",
    "print(make_sentance(run, house, funny))\n"
   ]
  },
  {
   "cell_type": "markdown",
   "metadata": {},
   "source": [
    "##### Default Parameters"
   ]
  },
  {
   "cell_type": "code",
   "execution_count": 13,
   "metadata": {},
   "outputs": [
    {
     "name": "stdout",
     "output_type": "stream",
     "text": [
      "Your birthday is Oct 22 and born in 2001\n"
     ]
    }
   ],
   "source": [
    "#  sets a default value \n",
    "\n",
    "def birthday_month(day, year, month=\"March\"):\n",
    "    return f\"Your birthday is {month} {day} and born in {year}\"\n",
    "print(birthday_month(22,2001, \"Oct\"))"
   ]
  },
  {
   "cell_type": "markdown",
   "metadata": {},
   "source": [
    "##### Making an Argument Optional"
   ]
  },
  {
   "cell_type": "code",
   "execution_count": 15,
   "metadata": {},
   "outputs": [
    {
     "name": "stdout",
     "output_type": "stream",
     "text": [
      " hello La ka Ed\n"
     ]
    }
   ],
   "source": [
    "def print_horse_name(first, middle = \"\", last = \"Ed\"):\n",
    "    if middle == \"\":\n",
    "        return f\"hello {first} {last}\"\n",
    "    return f\" hello {first} {middle} {last}\"\n",
    "print(print_horse_name(\"La\", \"ka\"))"
   ]
  },
  {
   "cell_type": "markdown",
   "metadata": {},
   "source": [
    "##### Keyword Arguments"
   ]
  },
  {
   "cell_type": "code",
   "execution_count": 19,
   "metadata": {},
   "outputs": [
    {
     "ename": "SyntaxError",
     "evalue": "EOL while scanning string literal (3025327013.py, line 4)",
     "output_type": "error",
     "traceback": [
      "\u001b[0;36m  Cell \u001b[0;32mIn[19], line 4\u001b[0;36m\u001b[0m\n\u001b[0;31m    print(hero(\"Batman\",power=\"being rich))\u001b[0m\n\u001b[0m                                           ^\u001b[0m\n\u001b[0;31mSyntaxError\u001b[0m\u001b[0;31m:\u001b[0m EOL while scanning string literal\n"
     ]
    }
   ],
   "source": [
    "def hero(name, power=\"flying\"):\n",
    "    return f\"{name}'s power is {power}\"\n",
    "\n",
    "print(hero(\"Batman\",power=\"being rich))"
   ]
  },
  {
   "cell_type": "code",
   "execution_count": 20,
   "metadata": {},
   "outputs": [
    {
     "name": "stdout",
     "output_type": "stream",
     "text": [
      "here are some colors red, blue, yellow\n"
     ]
    }
   ],
   "source": [
    "yellow = 'yellow'\n",
    "def color(c1, c2, c3):\n",
    "    return f\"here are some colors {c1}, {c2}, {c3}\"\n",
    "print(color(c1=\"red\", c3=yellow, c2=\"blue\"))"
   ]
  },
  {
   "cell_type": "markdown",
   "metadata": {},
   "source": [
    "# Creating a start, stop, step function"
   ]
  },
  {
   "cell_type": "code",
   "execution_count": 24,
   "metadata": {
    "scrolled": true
   },
   "outputs": [
    {
     "name": "stdout",
     "output_type": "stream",
     "text": [
      "1\n",
      "3\n",
      "5\n",
      "7\n",
      "9\n",
      "11\n",
      "13\n",
      "15\n",
      "17\n",
      "19\n",
      "Hey great job\n"
     ]
    }
   ],
   "source": [
    "# default paramitors need to follow non default paramitors\n",
    "#  reason why theres a print. \n",
    "# if you return too early it could stop the whole itteration of a function.  a loop in this case\n",
    "\n",
    "\n",
    "\n",
    "def my_range(stop, start=0, step=1):\n",
    "    for i in range(start, stop, step):\n",
    "        print(i)\n",
    "    return \"Hey great job\"\n",
    "\n",
    "print(my_range(20,1, 2))"
   ]
  },
  {
   "cell_type": "code",
   "execution_count": null,
   "metadata": {},
   "outputs": [],
   "source": [
    "def sq_num(arr):\n",
    "    sq_list = []\n",
    "    for i in arr:\n",
    "        square_lisy.append(i**2)\n",
    "    return sq_list\n",
    "    "
   ]
  },
  {
   "cell_type": "markdown",
   "metadata": {},
   "source": [
    "##### Returning Values"
   ]
  },
  {
   "cell_type": "code",
   "execution_count": 25,
   "metadata": {},
   "outputs": [
    {
     "name": "stdout",
     "output_type": "stream",
     "text": [
      "no haha\n"
     ]
    }
   ],
   "source": [
    "my_list = ['yes', 'no', 'maybe', 'defintally']\n",
    "\n",
    "def find_word(arr):\n",
    "    for i in arr:\n",
    "        if i == 'haha':\n",
    "            return \"haha\"\n",
    "    return \"no haha\"\n",
    "\n",
    "print(find_word(my_list))\n",
    "        "
   ]
  },
  {
   "cell_type": "code",
   "execution_count": null,
   "metadata": {},
   "outputs": [],
   "source": []
  },
  {
   "cell_type": "markdown",
   "metadata": {},
   "source": [
    "##### *args / **kwargs (keyword arguments)"
   ]
  },
  {
   "cell_type": "code",
   "execution_count": 28,
   "metadata": {},
   "outputs": [
    {
     "name": "stdout",
     "output_type": "stream",
     "text": [
      "This is my postional argument: 2\n",
      "These are my arguments: ('Mega Man', 'Cheetor', 'Chewbacca', 'What else is on my desk?', 12, 54)\n",
      "These are my keyword arguments: {'names': ['Chuck', 'Desiree', 'Patrick'], 'language': 'python'}\n"
     ]
    }
   ],
   "source": [
    "#  *args **kwargs\n",
    "#  *args stands for arguments and alllows tghe function to take in any number of args\n",
    "#  **kwargs stands for keyword arguments and allows you to take in any number of keyword aruguments\n",
    "#  if we have defualts they need to go last\n",
    "\n",
    "\n",
    "           \n",
    "def print_args(num1, num2, name, *args, **kwargs):\n",
    "    print(\"This is my postional argument:\", num1)\n",
    "    print(\"These are my arguments:\", args)\n",
    "    print(\"These are my keyword arguments:\", kwargs)\n",
    "\n",
    "print_args(2, 3, \"Ryan\", \"Mega Man\", \"Cheetor\", \"Chewbacca\", \"What else is on my desk?\", 12, 54,\n",
    "           names=[\"Chuck\", \"Desiree\", \"Patrick\"], language=\"python\")"
   ]
  },
  {
   "cell_type": "code",
   "execution_count": 31,
   "metadata": {},
   "outputs": [
    {
     "name": "stdout",
     "output_type": "stream",
     "text": [
      "Dharti\n",
      "Ewa\n",
      "Desiree\n",
      "Ben\n",
      "Enoch\n",
      "Swan\n",
      "Aristo\n",
      "Hyun-Tae\n",
      "Lyle\n",
      "Abdel\n",
      "Chicago\n",
      "Queens\n",
      "Los Angeles\n",
      "Plano\n",
      "Las Vegas\n",
      "Portland\n",
      "Pittsburgh\n",
      "Seattle\n",
      "Fairfax\n"
     ]
    }
   ],
   "source": [
    "\n",
    "def print_more_args(*names, **cities):\n",
    "    for name in names:\n",
    "        print(name)\n",
    "        \n",
    "    for city in cities.values():\n",
    "        for location in city:\n",
    "            print(location)\n",
    "print_more_args(\"Dharti\", \"Ewa\", \"Desiree\", \"Ben\", \"Enoch\", \"Swan\", \"Aristo\", \"Hyun-Tae\", \"Lyle\", \"Abdel\",\n",
    "               cities=['Chicago', \"Queens\", \"Los Angeles\", \"Plano\", \"Las Vegas\", \"Portland\", \"Pittsburgh\", \"Seattle\", \"Fairfax\"])\n"
   ]
  },
  {
   "cell_type": "markdown",
   "metadata": {},
   "source": [
    "##### Docstring"
   ]
  },
  {
   "cell_type": "code",
   "execution_count": 32,
   "metadata": {},
   "outputs": [
    {
     "name": "stdout",
     "output_type": "stream",
     "text": [
      "Help on function print_name in module __main__:\n",
      "\n",
      "print_name(arr)\n",
      "    here is your information about the function\n",
      "    \n",
      "    our function requires a list to be pasted as an arugument!\n",
      "    it will print the content of this list\n",
      "\n"
     ]
    }
   ],
   "source": [
    "# doc strings are a way to leave nots/ instructions for your code!\n",
    "\n",
    "def print_name(arr):\n",
    "    \"\"\"\n",
    "    here is your information about the function\n",
    "    \n",
    "    our function requires a list to be pasted as an arugument!\n",
    "    it will print the content of this list\n",
    "    \n",
    "    \"\"\"\n",
    "    for name in arr:\n",
    "        print(name)\n",
    "        \n",
    "help(print_name)"
   ]
  },
  {
   "cell_type": "markdown",
   "metadata": {},
   "source": [
    "##### Using a User Function in a Loop"
   ]
  },
  {
   "cell_type": "code",
   "execution_count": 35,
   "metadata": {},
   "outputs": [
    {
     "name": "stdout",
     "output_type": "stream",
     "text": [
      "Whats going on: I dont know\n",
      "I say hey yaaa I dont know\n",
      "Are you ready to quit: no\n",
      "Whats going on: whats going on\n",
      "I say hey yaaa whats going on\n",
      "Are you ready to quit: yes\n"
     ]
    }
   ],
   "source": [
    "def print_input(answer):\n",
    "    print(f\"I say hey yaaa {answer}\")\n",
    "    \n",
    "while True:\n",
    "    ask = input(\"Whats going on: \")\n",
    "    print_input(ask)\n",
    "    \n",
    "    response = input(\"Are you ready to quit: \")\n",
    "    if response.lower() == \"yes\":\n",
    "        break\n",
    "    \n",
    "    "
   ]
  },
  {
   "cell_type": "markdown",
   "metadata": {},
   "source": [
    "## Function Exercises <br>\n",
    "### Exercise 1\n",
    "<p>Write a function that loops through a list of first_names and a list of last_names, combines the two and return a list of full_names</p>"
   ]
  },
  {
   "cell_type": "code",
   "execution_count": 39,
   "metadata": {},
   "outputs": [
    {
     "name": "stdout",
     "output_type": "stream",
     "text": [
      "[('John', 'Smith'), ('Evan', 'Smith'), ('Jordan', 'Williams'), ('Max', 'Bell')]\n"
     ]
    }
   ],
   "source": [
    "first_name = ['John', 'Evan', 'Jordan', 'Max']\n",
    "last_name = ['Smith', 'Smith', 'Williams', 'Bell']\n",
    "\n",
    "# Output: ['John Smith', 'Evan Smith', 'Jordan Williams', 'Max Bell']\n",
    "new_names = zip(first_name, last_name)\n",
    "print(list(new_names))"
   ]
  },
  {
   "cell_type": "code",
   "execution_count": 40,
   "metadata": {},
   "outputs": [
    {
     "name": "stdout",
     "output_type": "stream",
     "text": [
      "['John', 'Evan', 'Jordan', 'Max'] ['Smith', 'Smith', 'Williams', 'Bell']\n"
     ]
    }
   ],
   "source": [
    "def full_name(first, last):\n",
    "    full = []\n",
    "    for name in first_name:\n",
    "        if name not in full:\n",
    "            full.append(name)\n",
    "    for last in last_name:\n",
    "        if last not in full:\n",
    "            full.append(last)\n",
    "        return full\n",
    "    \n",
    "print(first_name, last_name)"
   ]
  },
  {
   "cell_type": "code",
   "execution_count": null,
   "metadata": {},
   "outputs": [],
   "source": [
    "def full_name(first, last):\n",
    "    first\n",
    "    for first, last "
   ]
  },
  {
   "cell_type": "code",
   "execution_count": null,
   "metadata": {},
   "outputs": [],
   "source": [
    "def fullName(firstname,lastname):\n",
    "    return [firstname[i] + \" \"+ lastname[i] for i in range(len(firstname))]\n",
    "\n",
    "print(fullName(first_name,last_name))"
   ]
  },
  {
   "cell_type": "markdown",
   "metadata": {},
   "source": [
    "### Exercise 2\n",
    "Create a function that alters all values in the given list by subtracting 5 and then doubling them."
   ]
  },
  {
   "cell_type": "code",
   "execution_count": 41,
   "metadata": {},
   "outputs": [
    {
     "name": "stdout",
     "output_type": "stream",
     "text": [
      "[5, 10, 15, 20, 3]\n"
     ]
    }
   ],
   "source": [
    "input_list = [5,10,15,20,3]\n",
    "# output = [0,10,20,30,-4]\n",
    "def more_math(arr):\n",
    "    new_list = arr[:]\n",
    "    for num in new_list:\n",
    "        num = (num-5)* 2\n",
    "    return new_list\n",
    "\n",
    "print(more_math(input_list))\n"
   ]
  },
  {
   "cell_type": "code",
   "execution_count": 43,
   "metadata": {},
   "outputs": [
    {
     "ename": "TypeError",
     "evalue": "'int' object is not callable",
     "output_type": "error",
     "traceback": [
      "\u001b[0;31m---------------------------------------------------------------------------\u001b[0m",
      "\u001b[0;31mTypeError\u001b[0m                                 Traceback (most recent call last)",
      "Cell \u001b[0;32mIn[43], line 6\u001b[0m\n\u001b[1;32m      3\u001b[0m \u001b[38;5;28;01mdef\u001b[39;00m \u001b[38;5;21mmore_math\u001b[39m(arr):\n\u001b[1;32m      4\u001b[0m     \u001b[38;5;28;01mreturn\u001b[39;00m [num(num\u001b[38;5;241m-\u001b[39m\u001b[38;5;241m5\u001b[39m)\u001b[38;5;241m*\u001b[39m\u001b[38;5;241m2\u001b[39m \u001b[38;5;28;01mfor\u001b[39;00m num \u001b[38;5;129;01min\u001b[39;00m arr]\n\u001b[0;32m----> 6\u001b[0m \u001b[38;5;28mprint\u001b[39m(\u001b[43mmore_math\u001b[49m\u001b[43m(\u001b[49m\u001b[43minput_list\u001b[49m\u001b[43m)\u001b[49m)\n",
      "Cell \u001b[0;32mIn[43], line 4\u001b[0m, in \u001b[0;36mmore_math\u001b[0;34m(arr)\u001b[0m\n\u001b[1;32m      3\u001b[0m \u001b[38;5;28;01mdef\u001b[39;00m \u001b[38;5;21mmore_math\u001b[39m(arr):\n\u001b[0;32m----> 4\u001b[0m     \u001b[38;5;28;01mreturn\u001b[39;00m [num(num\u001b[38;5;241m-\u001b[39m\u001b[38;5;241m5\u001b[39m)\u001b[38;5;241m*\u001b[39m\u001b[38;5;241m2\u001b[39m \u001b[38;5;28;01mfor\u001b[39;00m num \u001b[38;5;129;01min\u001b[39;00m arr]\n",
      "Cell \u001b[0;32mIn[43], line 4\u001b[0m, in \u001b[0;36m<listcomp>\u001b[0;34m(.0)\u001b[0m\n\u001b[1;32m      3\u001b[0m \u001b[38;5;28;01mdef\u001b[39;00m \u001b[38;5;21mmore_math\u001b[39m(arr):\n\u001b[0;32m----> 4\u001b[0m     \u001b[38;5;28;01mreturn\u001b[39;00m [\u001b[43mnum\u001b[49m\u001b[43m(\u001b[49m\u001b[43mnum\u001b[49m\u001b[38;5;241;43m-\u001b[39;49m\u001b[38;5;241;43m5\u001b[39;49m\u001b[43m)\u001b[49m\u001b[38;5;241m*\u001b[39m\u001b[38;5;241m2\u001b[39m \u001b[38;5;28;01mfor\u001b[39;00m num \u001b[38;5;129;01min\u001b[39;00m arr]\n",
      "\u001b[0;31mTypeError\u001b[0m: 'int' object is not callable"
     ]
    }
   ],
   "source": [
    "input_list = [5,10,15,20,3]\n",
    "\n",
    "def more_math(arr):\n",
    "    return [num(num-5)*2 for num in arr]\n",
    "\n",
    "print(more_math(input_list))"
   ]
  },
  {
   "cell_type": "markdown",
   "metadata": {},
   "source": [
    "### Exercise 3\n",
    "Create a function that takes in a list of strings and filters out the strings that DO NOT contain vowels. "
   ]
  },
  {
   "cell_type": "code",
   "execution_count": 46,
   "metadata": {},
   "outputs": [
    {
     "name": "stdout",
     "output_type": "stream",
     "text": [
      "['Sheldon', 'Leonard', 'Amy']\n"
     ]
    }
   ],
   "source": [
    "string_list = ['Sheldon','Pnny','Leonard','Hwrd','Rj','Amy','Strt']\n",
    "# output = ['Sheldon','Leonard','Amy']\n",
    "\n",
    "def vowel(list1):\n",
    "    new_l = []\n",
    "    vowels = ['a', 'e', 'i', 'o', 'u']\n",
    "    for name in list1:\n",
    "        for letter in name:\n",
    "            if letter.lower() in vowels:\n",
    "                new_l.append(name)\n",
    "                break\n",
    "                \n",
    "    return new_l\n",
    "\n",
    "print(vowel(string_list))"
   ]
  },
  {
   "cell_type": "markdown",
   "metadata": {},
   "source": [
    "### Exercise 4\n",
    "Create a function that accepts a list as a parameter and returns a dictionary containing the list items as it's keys, and the number of times they appear in the list as the values"
   ]
  },
  {
   "cell_type": "code",
   "execution_count": 45,
   "metadata": {},
   "outputs": [
    {
     "name": "stdout",
     "output_type": "stream",
     "text": [
      "{0: [0], 1: [1], 2: [2], 3: [3], 4: [4], 5: [5], 6: [6], 7: [7], 8: [8], 9: [9], 10: [10], 11: [11]}\n"
     ]
    }
   ],
   "source": [
    "example_list = [\"Harry\", 'Hermione','Harry','Ron','Dobby','Draco','Luna','Harry','Hermione','Ron','Ron','Ron']\n",
    "\n",
    "# output = {\n",
    "#     \"Harry\":3,\n",
    "#     \"Hermione\":2,\n",
    "#     \"Ron\":4,\n",
    "#     \"Dobby\":1,\n",
    "#     \"Draco\":1,\n",
    "#     \"Luna\": 1\n",
    "# }\n",
    "\n",
    "def dict_function(arr):\n",
    "    new_dict = {}\n",
    "    for name in range(len(arr)):\n",
    "        new_dict[name]= [name]\n",
    "    return new_dict\n",
    "\n",
    "print(dict_function(example_list))"
   ]
  },
  {
   "cell_type": "code",
   "execution_count": 47,
   "metadata": {},
   "outputs": [
    {
     "name": "stdout",
     "output_type": "stream",
     "text": [
      "Harry : 3\n",
      "Hermione : 2\n",
      "Ron : 4\n",
      "Dobby : 1\n",
      "Draco : 1\n",
      "Luna : 1\n"
     ]
    }
   ],
   "source": [
    "def countList(arr):\n",
    "    d = {}\n",
    "    for i in arr:\n",
    "        if i not in d:\n",
    "            d[i] = 1\n",
    "        else:\n",
    "            d[i] += 1\n",
    "    return d\n",
    "\n",
    "for key, value in countList(example_list).items():\n",
    "    print(key, \":\", value)"
   ]
  },
  {
   "cell_type": "code",
   "execution_count": null,
   "metadata": {},
   "outputs": [],
   "source": []
  },
  {
   "cell_type": "markdown",
   "metadata": {},
   "source": [
    "\n",
    "\n",
    "## Scope <br>\n",
    "<p>Scope refers to the ability to access variables, different types of scope include:<br>a) Global<br>b) Function (local)<br>c) Class (local)</p>"
   ]
  },
  {
   "cell_type": "code",
   "execution_count": 50,
   "metadata": {},
   "outputs": [
    {
     "name": "stdout",
     "output_type": "stream",
     "text": [
      "3\n",
      "6\n"
     ]
    }
   ],
   "source": [
    "# placement of variablke declaration matters\n",
    "\n",
    "number = 3 #<-- global variable\n",
    "\n",
    "def return_num(num):\n",
    "    num1 = 6 #<--locally scoped function variable\n",
    "    return num1\n",
    "\n",
    "print(number)\n",
    "# print(num1)\n",
    "print(return_num(number))\n",
    "\n",
    "\n",
    "def add_nums(a,b):\n",
    "    num1 = a\n",
    "    num2 = b\n",
    "    return num1 +num2  "
   ]
  },
  {
   "cell_type": "markdown",
   "metadata": {},
   "source": [
    "## Modules"
   ]
  },
  {
   "cell_type": "markdown",
   "metadata": {},
   "source": [
    "##### Importing Entire Modules\n"
   ]
  },
  {
   "cell_type": "code",
   "execution_count": 54,
   "metadata": {},
   "outputs": [
    {
     "name": "stdout",
     "output_type": "stream",
     "text": [
      "3.141592653589793\n",
      "1\n"
     ]
    }
   ],
   "source": [
    "import math\n",
    "\n",
    "print(math.pi)\n",
    "\n",
    "num = 5\n",
    "num2 = 5\n",
    "num3 = num//num2\n",
    "print(num3)\n",
    "\n"
   ]
  },
  {
   "cell_type": "markdown",
   "metadata": {},
   "source": [
    "##### Importing Methods Only"
   ]
  },
  {
   "cell_type": "code",
   "execution_count": 59,
   "metadata": {},
   "outputs": [
    {
     "name": "stdout",
     "output_type": "stream",
     "text": [
      "3\n"
     ]
    }
   ],
   "source": [
    "#  from x import x\n",
    "\n",
    "#  from math import floor\n",
    "\n",
    "from math import floor as f, pi as p, ceil as c\n",
    "\n",
    "print(f(p))\n",
    "\n"
   ]
  },
  {
   "cell_type": "markdown",
   "metadata": {},
   "source": [
    "##### Using the 'as' Keyword"
   ]
  },
  {
   "cell_type": "code",
   "execution_count": null,
   "metadata": {},
   "outputs": [],
   "source": [
    "\n"
   ]
  },
  {
   "cell_type": "markdown",
   "metadata": {},
   "source": [
    "##### Creating a Module"
   ]
  },
  {
   "cell_type": "code",
   "execution_count": 61,
   "metadata": {},
   "outputs": [
    {
     "name": "stdout",
     "output_type": "stream",
     "text": [
      "Hello Mr/Ms Ethan...we've been waiting for you!\n"
     ]
    }
   ],
   "source": [
    "from module import printName as pn\n",
    "\n",
    "pn(\"Ethan\")"
   ]
  },
  {
   "cell_type": "code",
   "execution_count": null,
   "metadata": {},
   "outputs": [],
   "source": []
  },
  {
   "cell_type": "code",
   "execution_count": null,
   "metadata": {},
   "outputs": [],
   "source": []
  },
  {
   "cell_type": "markdown",
   "metadata": {},
   "source": [
    "# Homework Exercises"
   ]
  },
  {
   "cell_type": "markdown",
   "metadata": {},
   "source": [
    "### 1) Create a Module in VS Code and Import It into jupyter notebook <br>\n",
    "<p><b>Module should have the following capabilities:</b><br><br>\n",
    "1a) Has a function to calculate the square footage of a house <br>\n",
    "    <b>Reminder of Formula: Length X Width == Area</b><br>\n",
    "        <hr>\n",
    "1b) Has a function to calculate the circumference of a circle <br><br>\n",
    "<b>Program in Jupyter Notebook should take in user input and use imported functions to calculate a circle's circumference or a houses square footage</b>\n",
    "</p>"
   ]
  },
  {
   "cell_type": "code",
   "execution_count": 12,
   "metadata": {},
   "outputs": [
    {
     "name": "stdout",
     "output_type": "stream",
     "text": [
      "Type [q] to quit \n",
      "Type 1: calculate the square footage of a house: \n",
      "Type 2: calculate a circumference of a circle: \n",
      "what do you want to do?: 1\n"
     ]
    },
    {
     "ename": "AttributeError",
     "evalue": "'int' object has no attribute 'upper'",
     "output_type": "error",
     "traceback": [
      "\u001b[0;31m---------------------------------------------------------------------------\u001b[0m",
      "\u001b[0;31mAttributeError\u001b[0m                            Traceback (most recent call last)",
      "Cell \u001b[0;32mIn[12], line 16\u001b[0m\n\u001b[1;32m     13\u001b[0m             radius \u001b[38;5;241m=\u001b[39m \u001b[38;5;28mint\u001b[39m(\u001b[38;5;28minput\u001b[39m(\u001b[38;5;124m\"\u001b[39m\u001b[38;5;124mType in a radius number as an intiger: \u001b[39m\u001b[38;5;124m\"\u001b[39m))\n\u001b[1;32m     14\u001b[0m             \u001b[38;5;28mprint\u001b[39m(circles_circumference(radius))\n\u001b[0;32m---> 16\u001b[0m \u001b[38;5;28mprint\u001b[39m(\u001b[43mmy_function_1\u001b[49m\u001b[43m(\u001b[49m\u001b[43m)\u001b[49m)\n",
      "Cell \u001b[0;32mIn[12], line 6\u001b[0m, in \u001b[0;36mmy_function_1\u001b[0;34m()\u001b[0m\n\u001b[1;32m      4\u001b[0m \u001b[38;5;28;01mwhile\u001b[39;00m \u001b[38;5;28;01mTrue\u001b[39;00m:\n\u001b[1;32m      5\u001b[0m     first_quest \u001b[38;5;241m=\u001b[39m \u001b[38;5;28mint\u001b[39m(\u001b[38;5;28minput\u001b[39m(\u001b[38;5;124m\"\u001b[39m\u001b[38;5;124mType [q] to quit \u001b[39m\u001b[38;5;130;01m\\n\u001b[39;00m\u001b[38;5;124mType 1: calculate the square footage of a house: \u001b[39m\u001b[38;5;130;01m\\n\u001b[39;00m\u001b[38;5;124mType 2: calculate a circumference of a circle: \u001b[39m\u001b[38;5;130;01m\\n\u001b[39;00m\u001b[38;5;124mwhat do you want to do?: \u001b[39m\u001b[38;5;124m\"\u001b[39m))\n\u001b[0;32m----> 6\u001b[0m     \u001b[38;5;28;01mif\u001b[39;00m \u001b[43mfirst_quest\u001b[49m\u001b[38;5;241;43m.\u001b[39;49m\u001b[43mupper\u001b[49m() \u001b[38;5;241m==\u001b[39m \u001b[38;5;124m'\u001b[39m\u001b[38;5;124mQ\u001b[39m\u001b[38;5;124m'\u001b[39m:\n\u001b[1;32m      7\u001b[0m         \u001b[38;5;28;01mbreak\u001b[39;00m\n\u001b[1;32m      8\u001b[0m     \u001b[38;5;28;01mif\u001b[39;00m first_quest \u001b[38;5;241m==\u001b[39m \u001b[38;5;241m1\u001b[39m:\n",
      "\u001b[0;31mAttributeError\u001b[0m: 'int' object has no attribute 'upper'"
     ]
    }
   ],
   "source": [
    "\n",
    "from ethan_module import sq_ft_house, circles_circumference\n",
    "\n",
    "def my_function_1():\n",
    "    while True:\n",
    "        first_quest = int(input(\"Type [q] to quit \\nType 1: calculate the square footage of a house: \\nType 2: calculate a circumference of a circle: \\nwhat do you want to do?: \"))\n",
    "        if first_quest.upper() == 'Q':\n",
    "            break\n",
    "        if first_quest == 1:\n",
    "            house_length = int(input(\"Whats the length of your house. Type in an ingeger represending feet: \"))\n",
    "            house_width = int(input(\"Whats the width of your house? Type in an intiger represending feet: \"))\n",
    "            print(sq_ft_house(house_length, house_width))\n",
    "        elif first_quest == 2:\n",
    "            radius = int(input(\"Type in a radius number as an intiger: \"))\n",
    "            print(circles_circumference(radius))\n",
    "\n",
    "print(my_function_1())\n",
    "        "
   ]
  },
  {
   "cell_type": "markdown",
   "metadata": {},
   "source": [
    "## Exercise 2 <br>\n",
    "<p>Create a function which given an array of integers, return an array, where the first element is the count of\n",
    "positives numbers and the second element is sum of negative numbers. 0 is neither positive nor negative.\n",
    "If the input array is empty or null, return an empty array.</p><br>\n"
   ]
  },
  {
   "cell_type": "code",
   "execution_count": 82,
   "metadata": {},
   "outputs": [
    {
     "name": "stdout",
     "output_type": "stream",
     "text": [
      "[5, -164]\n"
     ]
    }
   ],
   "source": [
    "arr = [2, -4, 5, 3, 12, -104, -56, 27, 0]\n",
    "\n",
    "def fun_2(arry):\n",
    "    \"\"\"first im checking to see if the list has \n",
    "    has items.  if it doesnt I'm going to return \n",
    "    the empty list right away.\n",
    "    next I set the two items I need to zero.\n",
    "    then I will iterate through my given arry. \n",
    "    if its a positive number I'm going to store \n",
    "    the amount of positive numbers.\n",
    "    if it is a netative number. I'm going to add\n",
    "    them together.\n",
    "    then I will return the two variables as a list!\"\"\"\n",
    "    if len(arry)==0:\n",
    "        return []\n",
    "    \n",
    "    sum_nums = 0\n",
    "    positive_nums = 0\n",
    "    \n",
    "    for i in arry:\n",
    "        if i > 0:\n",
    "            positive_nums += 1\n",
    "        elif i < 0:\n",
    "            sum_nums += i\n",
    "        \n",
    "    return [positive_nums, sum_nums]\n",
    "\n",
    "print(fun_2(arr))"
   ]
  },
  {
   "cell_type": "code",
   "execution_count": 81,
   "metadata": {},
   "outputs": [
    {
     "name": "stdout",
     "output_type": "stream",
     "text": [
      "[0, 0]\n"
     ]
    }
   ],
   "source": [
    "arr = [2, -4, 5, 3, 12, -104, -56, 27, 0]\n",
    "\n",
    "def fun_2(arry):\n",
    "    empty_list = []\n",
    "    sum_nums = 0\n",
    "    positive_nums = 0\n",
    "    list_1 = [positive_nums, sum_nums]\n",
    "    for i in arry:\n",
    "        if i > 0:\n",
    "            positive_nums += 1\n",
    "        elif i < 0:\n",
    "            sum_nums += i\n",
    "#         elif i == []:\n",
    "#             return empty_list\n",
    "    return list_1\n",
    "\n",
    "print(fun_2(arr))"
   ]
  },
  {
   "cell_type": "code",
   "execution_count": 64,
   "metadata": {},
   "outputs": [
    {
     "name": "stdout",
     "output_type": "stream",
     "text": [
      "[23, 15]\n"
     ]
    }
   ],
   "source": [
    "varible = 23\n",
    "nums_4 = 15\n",
    "new_list = [varible, nums_4]\n",
    "print(new_list)"
   ]
  },
  {
   "cell_type": "markdown",
   "metadata": {},
   "source": [
    "## Exercise 3 <br>\n",
    "<p>Create a function that returns the sum of the two lowest positive numbers given\n",
    "an array of minimum 4 positive integers. No floats or non-positive integers will be passed.</p>"
   ]
  },
  {
   "cell_type": "code",
   "execution_count": 90,
   "metadata": {},
   "outputs": [
    {
     "name": "stdout",
     "output_type": "stream",
     "text": [
      "[2, 41]\n"
     ]
    }
   ],
   "source": [
    "# NOTE TO LEADER:\n",
    "# I'v been writing all the steps down on paper before approaching the code.\n",
    "# This helps me see things from a non linear perspective, and because wrting is slower\n",
    "# this forces me to slow down and think about things just a bit more!\n",
    "\n",
    "pos_arr = [6, 20, 48, 96, 109, 10034]\n",
    "new_list = [-4, -66, 6.6, 41, 2, 77]\n",
    "\n",
    "def sum_small(arry):\n",
    "    \n",
    "    \"\"\"Here we have a function. first I will sort\n",
    "    the given array/list. \n",
    "    Next I have a variable to store the number is it \n",
    "    is positive.\n",
    "    I then itterate through the list. \n",
    "    I check to see if the number is positive, and at the same time\n",
    "    check if its an integer.\n",
    "    if its not either of those I skip past it.\n",
    "    if it is I return the two smallest integers\"\"\"\n",
    "    \n",
    "    arry.sort()\n",
    "    store_pos = []\n",
    "    for i in arry:\n",
    "        if i > 0 and i%1==0:\n",
    "            store_pos.append(i)\n",
    "        else:\n",
    "            continue\n",
    "    return store_pos[:2]\n",
    "\n",
    "print(sum_small(new_list))"
   ]
  },
  {
   "cell_type": "markdown",
   "metadata": {},
   "source": [
    "## Exercise 4 <br>\n",
    "<p>Write a function that when given a list of items will return the \n",
    "item that appears the most times in the list. \n",
    "If two or more items appear the same amount of times, output all items in a list.\n",
    "\n",
    "Example Input = ['Orange', 'Apple', 'Bear', 3, 7, 'Tree', 'Orange', 'Tree']\n",
    "Example Out = ['Orange', 'Tree']\n",
    "\n",
    "#Hint (a counter dictionary might be helpful)</p>"
   ]
  },
  {
   "cell_type": "code",
   "execution_count": 103,
   "metadata": {},
   "outputs": [
    {
     "name": "stdout",
     "output_type": "stream",
     "text": [
      "['Orange', 'Tree']\n"
     ]
    }
   ],
   "source": [
    "my_list = ['Orange', 'Apple', 'Bear', 3, 7, 'Tree', 'Orange', 'Tree']\n",
    "\n",
    "def count_item(arr):\n",
    "    \"\"\"here I set an empty dictionary. and an empty variable.\n",
    "    I loop through the given array/list. I then add to the diction by 1:\n",
    "    if there is an item already in the dictinary. its adds 1.\n",
    "    at each iteration it is also checking to see if the amount is larger then max_count\n",
    "    if so it updates acordingly.\n",
    "    \n",
    "    \"\"\"\n",
    "    di = {}\n",
    "    max_count = 0\n",
    "    for i in arr:\n",
    "        if i in di:\n",
    "            di[i] += 1\n",
    "        else:\n",
    "            di[i] = 1\n",
    "        if di[i] > max_count:\n",
    "            max_count = di[i]\n",
    "    most_common = [k for k, v in di.items() if v == max_count]\n",
    "    return most_common\n",
    "   \n",
    "\n",
    "print(count_item(my_list))"
   ]
  }
 ],
 "metadata": {
  "kernelspec": {
   "display_name": "Python 3 (ipykernel)",
   "language": "python",
   "name": "python3"
  },
  "language_info": {
   "codemirror_mode": {
    "name": "ipython",
    "version": 3
   },
   "file_extension": ".py",
   "mimetype": "text/x-python",
   "name": "python",
   "nbconvert_exporter": "python",
   "pygments_lexer": "ipython3",
   "version": "3.9.7"
  }
 },
 "nbformat": 4,
 "nbformat_minor": 2
}
